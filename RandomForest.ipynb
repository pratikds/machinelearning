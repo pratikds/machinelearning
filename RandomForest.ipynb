{
  "nbformat": 4,
  "nbformat_minor": 0,
  "metadata": {
    "colab": {
      "name": "Untitled",
      "provenance": [],
      "authorship_tag": "ABX9TyN96jHjHeY2cYZ8miRKcJ3j",
      "include_colab_link": true
    },
    "kernelspec": {
      "name": "python3",
      "display_name": "Python 3"
    },
    "language_info": {
      "name": "python"
    }
  },
  "cells": [
    {
      "cell_type": "markdown",
      "metadata": {
        "id": "view-in-github",
        "colab_type": "text"
      },
      "source": [
        "<a href=\"https://colab.research.google.com/github/pratikds/machinelearning/blob/main/RandomForest.ipynb\" target=\"_parent\"><img src=\"https://colab.research.google.com/assets/colab-badge.svg\" alt=\"Open In Colab\"/></a>"
      ]
    },
    {
      "cell_type": "markdown",
      "source": [
        "Random Forest are an improvment to the bagged Decision Trees.\n",
        "Using Random Fores,t one can tweak the construction of the Decision Treees when Bagging to de-correlate their predictions.\n",
        "\n"
      ],
      "metadata": {
        "id": "AajO0ThiO7sS"
      }
    },
    {
      "cell_type": "code",
      "execution_count": 21,
      "metadata": {
        "colab": {
          "base_uri": "https://localhost:8080/"
        },
        "id": "a9Bp4YP2hvJT",
        "outputId": "7208e3a5-a4e1-45df-b69f-5ec593b44a52"
      },
      "outputs": [
        {
          "output_type": "stream",
          "name": "stdout",
          "text": [
            "Looking in indexes: https://pypi.org/simple, https://us-python.pkg.dev/colab-wheels/public/simple/\n",
            "Requirement already satisfied: sklearn in /usr/local/lib/python3.7/dist-packages (0.0)\n",
            "Requirement already satisfied: scikit-learn in /usr/local/lib/python3.7/dist-packages (from sklearn) (1.0.2)\n",
            "Requirement already satisfied: numpy>=1.14.6 in /usr/local/lib/python3.7/dist-packages (from scikit-learn->sklearn) (1.21.6)\n",
            "Requirement already satisfied: threadpoolctl>=2.0.0 in /usr/local/lib/python3.7/dist-packages (from scikit-learn->sklearn) (3.1.0)\n",
            "Requirement already satisfied: joblib>=0.11 in /usr/local/lib/python3.7/dist-packages (from scikit-learn->sklearn) (1.1.0)\n",
            "Requirement already satisfied: scipy>=1.1.0 in /usr/local/lib/python3.7/dist-packages (from scikit-learn->sklearn) (1.4.1)\n"
          ]
        }
      ],
      "source": [
        "import pandas\n",
        "!pip install sklearn\n",
        "from sklearn.ensemble import RandomForestClassifier\n",
        "from sklearn.model_selection import cross_val_score\n",
        "from sklearn.model_selection import cross_val_predict\n",
        "from sklearn.model_selection import cross_validate"
      ]
    },
    {
      "cell_type": "markdown",
      "source": [
        "Random forest is an algorithm which is an extension of Bagged Decision trees.\n",
        "I created a Random Forest model for Classification using RandomForestClassifier Class. In the example below, it is a random forest for classification for 100 trees and split points chosen from a random selection of 3 features."
      ],
      "metadata": {
        "id": "ku4RRMwtFyaH"
      }
    },
    {
      "cell_type": "code",
      "source": [
        "url = \"https://nrvis.com/data/mldata/pima-indians-diabetes.csv\""
      ],
      "metadata": {
        "id": "B2GMuIVrFv2R"
      },
      "execution_count": 13,
      "outputs": []
    },
    {
      "cell_type": "markdown",
      "source": [
        ""
      ],
      "metadata": {
        "id": "BcCSQt66Fw0p"
      }
    },
    {
      "cell_type": "code",
      "source": [
        "names = [ ' preg ' , ' plas ' , ' pres ' , ' skin ' , ' test ' , ' mass ' , ' pedi ' , ' age ' , ' class ' ]"
      ],
      "metadata": {
        "id": "KJKXu4T5HWUi"
      },
      "execution_count": 11,
      "outputs": []
    },
    {
      "cell_type": "code",
      "source": [
        "dataframe = pandas.read_csv(url, names=names)"
      ],
      "metadata": {
        "id": "yGL3fhH-HfSj"
      },
      "execution_count": 14,
      "outputs": []
    },
    {
      "cell_type": "code",
      "source": [
        "array = dataframe.values"
      ],
      "metadata": {
        "id": "AbmKrpFIImuk"
      },
      "execution_count": 17,
      "outputs": []
    },
    {
      "cell_type": "code",
      "source": [
        "X = array[:,0:8]"
      ],
      "metadata": {
        "id": "wbmSKPESIzJv"
      },
      "execution_count": 24,
      "outputs": []
    },
    {
      "cell_type": "code",
      "source": [
        "Y = array[:,8]"
      ],
      "metadata": {
        "id": "HTLEctNhI91h"
      },
      "execution_count": 25,
      "outputs": []
    },
    {
      "cell_type": "code",
      "source": [
        "from sklearn import model_selection\n",
        "num_folds= 10\n",
        "num_instances = len(X)\n",
        "num_trees= 100\n",
        "seed = 7\n",
        "max_features = 3\n",
        "kfold = model_selection.KFold(n_splits=5, shuffle=True, random_state=seed)\n",
        "model = RandomForestClassifier(n_estimators=num_trees, max_features =max_features)\n",
        "results = cross_val_score (model, X, Y,cv=kfold)\n",
        "print(results.mean())"
      ],
      "metadata": {
        "colab": {
          "base_uri": "https://localhost:8080/"
        },
        "id": "Yur_MlqQJ3Aw",
        "outputId": "56f7ad3c-43ea-4443-f31c-9394388dac32"
      },
      "execution_count": 30,
      "outputs": [
        {
          "output_type": "stream",
          "name": "stdout",
          "text": [
            "0.7694762753586283\n"
          ]
        }
      ]
    },
    {
      "cell_type": "markdown",
      "source": [
        ""
      ],
      "metadata": {
        "id": "faOd0rKjO6Ee"
      }
    }
  ]
}